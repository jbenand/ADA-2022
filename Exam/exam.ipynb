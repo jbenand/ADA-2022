{
 "cells": [
  {
   "cell_type": "markdown",
   "id": "09e9a536",
   "metadata": {},
   "source": [
    "## ADA final exam (Fall 2022)\n",
    "\n",
    "This exam consists of 3 tasks. Tasks 2 and 3 are independent of each other (although conceptually related).\n"
   ]
  },
  {
   "cell_type": "markdown",
   "id": "68507ec4",
   "metadata": {},
   "source": [
    "## Dataset\n",
    "\n",
    "For a Wikipedia editor to become an administrator, a so-called “request for adminship” ([RfA](https://en.wikipedia.org/wiki/Wikipedia:Requests_for_adminship)) must be submitted by either the candidate or another community member. Subsequently, any Wikipedia member may cast a supporting or opposing vote. Here we provide a simplified version of the Wikipedia RfA dataset, containing all votes from 2003 through 2012.\n",
    "\n",
    "###  Data format\n",
    "\n",
    "|        |   SRC |   TGT |   VOT |   RES |   YEA | DAT                 | TXT                                                                                                                                                                                               |\n",
    "|-------:|------:|------:|------:|------:|------:|:--------------------|:--------------------------------------------------------------------------------------------------------------------------------------------------------------------------------------------------|\n",
    "|  39054 |  3444 | 10170 |     1 |     1 |  2009 | 2009-07-01 17:50:00 | '''Support''' - Best of luck. &nbsp;                                                                                                                                                              |\n",
    "| 159680 |   722 |  9634 |    -1 |    -1 |  2006 | 2006-12-15 07:28:00 | '''Oppose''' Not even 2000 edits.                                                                                                                                                                 |\n",
    "| 173438 |  4194 |  5524 |     1 |     1 |  2005 | 2005-03-18 19:22:00 | Ohhh, you're Carrp!  In that case, '''Support'''.                                                                                                                                                 |\n",
    "|  60627 |  4855 |  9436 |     1 |     1 |  2008 | 2008-12-18 23:26:00 | '''Support''' via thoughtful answer to my question that demonstrates this editor has clue.                                                 |\n",
    "| 194809 |  7687 |   908 |     1 |     1 |  2004 | 2004-09-25 05:21:00 | Nicholas is very good in English. Also, he got '''exceptional''' patience to explain petty obvious facts in talk page to convince ignorants. Let the world be benefitted more out of his work. -- |\n",
    "\n",
    "\n",
    "- SRC: the user name of the source of the vote, i.e., of the user who cast the vote.\n",
    "- TGT: the user name of the target of the vote, i.e., of the user running for election.\n",
    "- VOT: the source's vote on the target (-1 = oppose; 1 = support).\n",
    "- RES: the outcome of the election (-1 = target was rejected as admin; 1 = target was accepted). **(We will not use this  column in this exam.)**\n",
    "- YEA: the year of the RfA.\n",
    "- DAT: the date and time of this vote. **(We will not use this column in this exam.)**\n",
    "- TXT: the comment written by the source. **(We will not use this column in this exam.)**\n",
    "\n",
    "---\n"
   ]
  },
  {
   "cell_type": "markdown",
   "id": "4a4a661c",
   "metadata": {},
   "source": [
    "## Structural balance theory\n",
    "\n",
    "**Structural balance theory** affirms that social networks tend to be organized so as to avoid conflictual situations, e.g., if a great friend of yours hates someone, you will likely not befriend that person.\n",
    "\n",
    "The theory can be operationalized by looking at _triangles_ in an undirected _signed graph_ capturing person-to-person relationships, where a _signed graph_ is a  graph in which each edge is associated with a positive or negative sign, and a _triangle_ is a set of three edges ($\\langle u,v \\rangle$, $\\langle v,w\\rangle$, $\\langle u,w\\rangle$) that fully connect three distinct nodes ($u, v, w$).\n",
    "\n",
    "\n",
    "\n",
    "_Triangles_ in an undirected signed graph can be in 4 _configurations_:\n",
    "all positive edges ($\\{+,+,+\\}$); \n",
    "all negative edges ($\\{-,-,-\\}$); \n",
    "two positive edges and one negative edge ($\\{+,+,-\\}$);\n",
    "one positive edge and two negative edges ($\\{+,-,-\\}$).\n",
    "\n",
    "Structural balance theory posits that social networks tend to favor triangle configurations with an even number of negative signs (i.e., $\\{+,+,+\\}$ and $\\{+,-,-\\}$), which can be understood as being “balanced” by avoiding conflictual situations. Intuitively, $\\{+,+,+\\}$ could be tagged as “The friend of my friend is my friend”, and $\\{+,-,-\\}$ as “The enemy of my enemy is my friend”, “The friend of my enemy is my enemy”, or “The enemy of my friend is my enemy”. On the contrary, triangle configurations with an odd number of negative signs (i.e., $\\{+,+,-\\}$ and $\\{-,-,-\\}$) are unstable (“unbalanced”) according to structural balance theory and will thus occur less frequently in social networks. For instance, me being friends with two mutual enemies ($\\{+,+,-\\}$) would lead to tension that could be resolved if the two enemies became friends or if I took sides and ended my friendship with one of the two. Similarly, two among three mutual enemies ($\\{-,-,-\\}$) would have the incentive to form an alliance to “gang up” against the third.\n",
    "\n",
    "Some social scientists have argued that three mutual enemies ($\\{-,-,-\\}$) is not necessarily a triangle configuration that social networks tend to avoid. This gives rise to **weak structural balance theory**, which only posits that social networks tend to avoid the “unbalanced” triangle configuration $\\{+,+,-\\}$.\n",
    "\n",
    "In a nutshell,\n",
    "- structural balance theory\n",
    "  - considers $\\{+,+,+\\}$, $\\{+,-,-\\}$ as balanced,\n",
    "  - and $\\{+,+,-\\}$, $\\{-,-,-\\}$ as unbalanced;\n",
    "- weak structural balance theory\n",
    "  - considers $\\{+,+,+\\}$, $\\{+,-,-\\}$, $\\{-,-,-\\}$ as balanced,\n",
    "  - and $\\{+,+,-\\}$ as unbalanced.\n",
    "\n"
   ]
  },
  {
   "cell_type": "markdown",
   "id": "d5f337c9",
   "metadata": {},
   "source": [
    "### Task 1: Preliminaries\n",
    "\n",
    "As a good data scientist, you first load the data and explore it.\n",
    "\n",
    "**1.1**\n",
    "Load the csv file `wiki-RfA.csv.gz` in a pandas dataframe. Calculate the number of distinct RfAs and the average number of votes per RfA.\n",
    "- **Hint:** Throughout this question, assume that each RfA is uniquely determined by the column `TGT` and each vote is uniquely determined by the combination of `SRC` and `TGT`."
   ]
  },
  {
   "cell_type": "code",
   "execution_count": 46,
   "id": "ff2e92a5",
   "metadata": {},
   "outputs": [
    {
     "data": {
      "text/html": [
       "<div>\n",
       "<style scoped>\n",
       "    .dataframe tbody tr th:only-of-type {\n",
       "        vertical-align: middle;\n",
       "    }\n",
       "\n",
       "    .dataframe tbody tr th {\n",
       "        vertical-align: top;\n",
       "    }\n",
       "\n",
       "    .dataframe thead th {\n",
       "        text-align: right;\n",
       "    }\n",
       "</style>\n",
       "<table border=\"1\" class=\"dataframe\">\n",
       "  <thead>\n",
       "    <tr style=\"text-align: right;\">\n",
       "      <th></th>\n",
       "      <th>SRC</th>\n",
       "      <th>TGT</th>\n",
       "      <th>VOT</th>\n",
       "      <th>RES</th>\n",
       "      <th>YEA</th>\n",
       "      <th>DAT</th>\n",
       "      <th>TXT</th>\n",
       "    </tr>\n",
       "  </thead>\n",
       "  <tbody>\n",
       "    <tr>\n",
       "      <th>0</th>\n",
       "      <td>5943</td>\n",
       "      <td>9966</td>\n",
       "      <td>-1</td>\n",
       "      <td>-1</td>\n",
       "      <td>2012</td>\n",
       "      <td>2012-12-30 22:27:00</td>\n",
       "      <td>—</td>\n",
       "    </tr>\n",
       "    <tr>\n",
       "      <th>1</th>\n",
       "      <td>9153</td>\n",
       "      <td>9966</td>\n",
       "      <td>-1</td>\n",
       "      <td>-1</td>\n",
       "      <td>2012</td>\n",
       "      <td>2012-12-30 22:25:00</td>\n",
       "      <td>'''Oppose'''. This joke really isn't funny, no...</td>\n",
       "    </tr>\n",
       "    <tr>\n",
       "      <th>2</th>\n",
       "      <td>4189</td>\n",
       "      <td>9966</td>\n",
       "      <td>-1</td>\n",
       "      <td>-1</td>\n",
       "      <td>2012</td>\n",
       "      <td>2012-12-30 22:17:00</td>\n",
       "      <td>'''Oppose''' as per nomination and answers. --...</td>\n",
       "    </tr>\n",
       "    <tr>\n",
       "      <th>3</th>\n",
       "      <td>3750</td>\n",
       "      <td>9966</td>\n",
       "      <td>-1</td>\n",
       "      <td>-1</td>\n",
       "      <td>2012</td>\n",
       "      <td>2012-12-30 22:14:00</td>\n",
       "      <td>'''Oppose''' and '''speeedy close''' this as [...</td>\n",
       "    </tr>\n",
       "    <tr>\n",
       "      <th>4</th>\n",
       "      <td>4225</td>\n",
       "      <td>9966</td>\n",
       "      <td>-1</td>\n",
       "      <td>-1</td>\n",
       "      <td>2012</td>\n",
       "      <td>2012-12-30 22:08:00</td>\n",
       "      <td>'''Oppose''' per nomination and answers. I am ...</td>\n",
       "    </tr>\n",
       "  </tbody>\n",
       "</table>\n",
       "</div>"
      ],
      "text/plain": [
       "    SRC   TGT  VOT  RES   YEA                  DAT  \\\n",
       "0  5943  9966   -1   -1  2012  2012-12-30 22:27:00   \n",
       "1  9153  9966   -1   -1  2012  2012-12-30 22:25:00   \n",
       "2  4189  9966   -1   -1  2012  2012-12-30 22:17:00   \n",
       "3  3750  9966   -1   -1  2012  2012-12-30 22:14:00   \n",
       "4  4225  9966   -1   -1  2012  2012-12-30 22:08:00   \n",
       "\n",
       "                                                 TXT  \n",
       "0                                                  —  \n",
       "1  '''Oppose'''. This joke really isn't funny, no...  \n",
       "2  '''Oppose''' as per nomination and answers. --...  \n",
       "3  '''Oppose''' and '''speeedy close''' this as [...  \n",
       "4  '''Oppose''' per nomination and answers. I am ...  "
      ]
     },
     "metadata": {},
     "output_type": "display_data"
    },
    {
     "name": "stdout",
     "output_type": "stream",
     "text": [
      "Number of distinct RfAs :  3439\n",
      "Mean number of votes per RfA :  48.561500436173304\n"
     ]
    }
   ],
   "source": [
    "# 1.1\n",
    "import pandas as pd\n",
    "import numpy as np\n",
    "import matplotlib.pyplot as plt\n",
    "\n",
    "df = pd.read_csv(\"wiki-RfA.csv\")\n",
    "display(df.head())\n",
    "print(\"Number of distinct RfAs : \", df['TGT'].nunique())\n",
    "mean_vote = df.groupby('TGT').SRC.count().mean()\n",
    "print(\"Mean number of votes per RfA : \", mean_vote)"
   ]
  },
  {
   "cell_type": "markdown",
   "id": "813b5a32",
   "metadata": {},
   "source": [
    "**1.2** \n",
    "In a single figure with three subfigures (one per item), show the following time series:\n",
    "- the number of RfAs per year;\n",
    "- the overall fraction of positive votes per year; and \n",
    "- the average number of votes per RfA per year.\n",
    "\n",
    "For each of the above three quantities, print the value for the year 2008."
   ]
  },
  {
   "cell_type": "code",
   "execution_count": 98,
   "id": "b1732d7e",
   "metadata": {},
   "outputs": [
    {
     "data": {
      "text/html": [
       "<div>\n",
       "<style scoped>\n",
       "    .dataframe tbody tr th:only-of-type {\n",
       "        vertical-align: middle;\n",
       "    }\n",
       "\n",
       "    .dataframe tbody tr th {\n",
       "        vertical-align: top;\n",
       "    }\n",
       "\n",
       "    .dataframe thead th {\n",
       "        text-align: right;\n",
       "    }\n",
       "</style>\n",
       "<table border=\"1\" class=\"dataframe\">\n",
       "  <thead>\n",
       "    <tr style=\"text-align: right;\">\n",
       "      <th></th>\n",
       "      <th>Year</th>\n",
       "      <th>Number of RfAs</th>\n",
       "    </tr>\n",
       "  </thead>\n",
       "  <tbody>\n",
       "    <tr>\n",
       "      <th>0</th>\n",
       "      <td>2003</td>\n",
       "      <td>40</td>\n",
       "    </tr>\n",
       "    <tr>\n",
       "      <th>1</th>\n",
       "      <td>2004</td>\n",
       "      <td>284</td>\n",
       "    </tr>\n",
       "    <tr>\n",
       "      <th>2</th>\n",
       "      <td>2005</td>\n",
       "      <td>532</td>\n",
       "    </tr>\n",
       "    <tr>\n",
       "      <th>3</th>\n",
       "      <td>2006</td>\n",
       "      <td>781</td>\n",
       "    </tr>\n",
       "    <tr>\n",
       "      <th>4</th>\n",
       "      <td>2007</td>\n",
       "      <td>814</td>\n",
       "    </tr>\n",
       "    <tr>\n",
       "      <th>5</th>\n",
       "      <td>2008</td>\n",
       "      <td>520</td>\n",
       "    </tr>\n",
       "    <tr>\n",
       "      <th>6</th>\n",
       "      <td>2009</td>\n",
       "      <td>317</td>\n",
       "    </tr>\n",
       "    <tr>\n",
       "      <th>7</th>\n",
       "      <td>2010</td>\n",
       "      <td>212</td>\n",
       "    </tr>\n",
       "    <tr>\n",
       "      <th>8</th>\n",
       "      <td>2011</td>\n",
       "      <td>134</td>\n",
       "    </tr>\n",
       "    <tr>\n",
       "      <th>9</th>\n",
       "      <td>2012</td>\n",
       "      <td>93</td>\n",
       "    </tr>\n",
       "  </tbody>\n",
       "</table>\n",
       "</div>"
      ],
      "text/plain": [
       "   Year  Number of RfAs\n",
       "0  2003              40\n",
       "1  2004             284\n",
       "2  2005             532\n",
       "3  2006             781\n",
       "4  2007             814\n",
       "5  2008             520\n",
       "6  2009             317\n",
       "7  2010             212\n",
       "8  2011             134\n",
       "9  2012              93"
      ]
     },
     "metadata": {},
     "output_type": "display_data"
    },
    {
     "name": "stdout",
     "output_type": "stream",
     "text": [
      "Number of RfAs in 2008 : 520\n",
      "Fraction of positive votes in 2008 : 0.7612268475384787\n",
      "Mean votes per RfAs in 2008 : 51.60192307692308\n"
     ]
    },
    {
     "data": {
      "image/png": "[encoded data removed]",
      "text/plain": [
       "<Figure size 2000x400 with 3 Axes>"
      ]
     },
     "metadata": {},
     "output_type": "display_data"
    }
   ],
   "source": [
    "# 1.2 \n",
    "import seaborn as sns\n",
    "\n",
    "fig, axs = plt.subplots(1, 3, figsize=(20, 4), sharex=True)\n",
    "\n",
    "tmp = df.groupby([\"YEA\", \"TGT\"]).VOT\n",
    "\n",
    "plot_1_data = tmp.count().reset_index().groupby(\"YEA\").VOT.count() \n",
    "plot_1_data = pd.DataFrame({'Year':plot_1_data.index, 'Number of RfAs':plot_1_data.values})\n",
    "display(plot_1_data)\n",
    "sns.lineplot(plot_1_data, x=\"Year\", y=\"Number of RfAs\", ax=axs[0])\n",
    "\n",
    "pos_votes_df = df[df['VOT']==1]\n",
    "num_pos_votes_per_year = pos_votes_df.groupby('YEA').VOT.count().reset_index()\n",
    "# display(pos_votes_df.groupby('YEA').VOT.count().reset_index())\n",
    "# num_pos_votes_per_year = pos_votes_df.groupby('YEA').VOT.count()\n",
    "num_votes_per_year = df.groupby('YEA').VOT.count().reset_index()\n",
    "# display(df.groupby('YEA').VOT.count().reset_index())\n",
    "plot_2_data = num_pos_votes_per_year['VOT']/num_votes_per_year['VOT']\n",
    "plot_2_data.index = num_votes_per_year['YEA']\n",
    "plot_2_data = pd.DataFrame({'Year':plot_2_data.index, 'Fraction of positive votes':plot_2_data.values})\n",
    "# display(plot_2_data)\n",
    "sns.lineplot(plot_2_data, x=\"Year\", y=\"Fraction of positive votes\", ax=axs[1])\n",
    "\n",
    "plot_3_data = tmp.count().reset_index().groupby('YEA').VOT.mean()\n",
    "plot_3_data = pd.DataFrame({'Year':plot_3_data.index, 'Mean votes per RfA':plot_3_data.values})\n",
    "# display(plot_3_data)\n",
    "sns.lineplot(plot_3_data, x=\"Year\", y=\"Mean votes per RfA\", ax=axs[2])\n",
    "\n",
    "print(\"Number of RfAs in 2008 :\", plot_1_data.iloc[5,1])\n",
    "print(\"Fraction of positive votes in 2008 :\", plot_2_data.iloc[5,1])\n",
    "print(\"Mean votes per RfAs in 2008 :\", plot_3_data.iloc[5,1])"
   ]
  },
  {
   "cell_type": "markdown",
   "id": "366d38d9",
   "metadata": {},
   "source": [
    "**1.3** \n",
    "**/Discuss:/** Describe the temporal patterns observed in the plots you did in **T1.2**."
   ]
  },
  {
   "cell_type": "markdown",
   "id": "e77900f8",
   "metadata": {},
   "source": [
    "**A1.3** \n",
    "Reviewers seem to have been getting more severe as the fraction of positive votes decreases over time but they also seem to vote more on each RfA. There was a peak of popularity of RfA in the early 2010s."
   ]
  },
  {
   "cell_type": "markdown",
   "id": "81126c89",
   "metadata": {},
   "source": [
    "**1.4** \n",
    "Create an undirected graph ([`nx.Graph`](https://networkx.org/documentation/stable/reference/classes/graph.html)) where every node corresponds to a Wikipedia user (source or target of an RfA) and where there exists an edge between two users if at least one of them has voted on the other. Each edge should have attributes corresponding to columns of the dataframe, namely:\n",
    "- `VOT`, which equals `1` if the vote was positive, and `-1` otherwise.\n",
    "- `YEA`, an integer that represents the year of the RfA.\n",
    "\n",
    "**The code to load the graph has been provided to you!** After running it, print the number of nodes and edges in your graph.\n",
    "\n",
    "---\n",
    "\n",
    "**Observation:** Note that we have at most one edge per pair of nodes in the graph, even though two votes may be associated with the pair  — e.g., if A voted in B's RfA in time $t_1$ and B voted in A's RfA in time $t_2$ ($t_1 < t_2$). In these cases, the code provided associates the metadata of the oldest vote ($t_1$ in the example) to the edge between A and B."
   ]
  },
  {
   "cell_type": "code",
   "execution_count": 100,
   "id": "e57d4776",
   "metadata": {},
   "outputs": [],
   "source": [
    "# Provided code! Do not change!\n",
    "import networkx as nx\n",
    "import pandas as pd\n",
    "G = nx.from_pandas_edgelist(pd.read_csv(\"wiki-RfA.csv\"), \n",
    "                            'SRC', 'TGT', ['VOT', 'RES', 'YEA', 'DAT'], create_using=nx.Graph)"
   ]
  },
  {
   "cell_type": "code",
   "execution_count": 101,
   "id": "f21ec7a6",
   "metadata": {},
   "outputs": [
    {
     "name": "stdout",
     "output_type": "stream",
     "text": [
      "Number of nodes : 10831\n",
      "Number of edges : 161147\n"
     ]
    }
   ],
   "source": [
    "# 1.4\n",
    "print(\"Number of nodes :\", len(G.nodes))\n",
    "print(\"Number of edges :\", len(G.edges))"
   ]
  },
  {
   "cell_type": "markdown",
   "id": "37cbd1b8",
   "metadata": {},
   "source": [
    "**1.5** \n",
    "Plot the **complementary** cumulative distribution of the degree centrality of the undirected graph. Use a logarithmic (base 10) x-axis and a linear y-axis."
   ]
  },
  {
   "cell_type": "code",
   "execution_count": 103,
   "id": "c1edfd6a",
   "metadata": {},
   "outputs": [
    {
     "data": {
      "text/plain": [
       "Text(0.5, 0, 'Degree centrality')"
      ]
     },
     "execution_count": 103,
     "metadata": {},
     "output_type": "execute_result"
    },
    {
     "data": {
      "image/png": "[encoded data removed]",
      "text/plain": [
       "<Figure size 640x480 with 1 Axes>"
      ]
     },
     "metadata": {},
     "output_type": "display_data"
    }
   ],
   "source": [
    "# 1.5\n",
    "\n",
    "sns.ecdfplot(list(dict(G.degree()).values()), complementary=True)\n",
    "plt.xscale(\"log\")\n",
    "plt.axvline(9)\n",
    "plt.axhline(0.4)\n",
    "plt.title(\"Complementary CDF\")\n",
    "plt.xlabel(\"Degree centrality\")"
   ]
  },
  {
   "cell_type": "markdown",
   "id": "935be3bf",
   "metadata": {},
   "source": [
    "\n",
    "**1.6**\n",
    "**/Discuss:/** Why is the following statement false? Justify your answer. **\"From the graph obtained in task 1.5, one can conclude that around 40% of the users voted at least 11 times.\"**\n"
   ]
  },
  {
   "cell_type": "markdown",
   "id": "3316f395",
   "metadata": {},
   "source": [
    "**A1.6**\n",
    "Around 40% of the users voted at least 10 degree centrality. However degree centrality counts both incoming and outgoing votes, hence we cannot say anything about just the vote of the users. 40% provides an upperbound."
   ]
  },
  {
   "cell_type": "markdown",
   "id": "9d1d5f4a",
   "metadata": {},
   "source": [
    "**1.7**\n",
    "What fraction of users voted at least 11 times? Use the data to measure the fraction."
   ]
  },
  {
   "cell_type": "code",
   "execution_count": 119,
   "id": "a167a11b",
   "metadata": {},
   "outputs": [
    {
     "name": "stdout",
     "output_type": "stream",
     "text": [
      "The fraction of users that votes at least 11 times is : 0.27459977567043947\n"
     ]
    }
   ],
   "source": [
    "# 1.7\n",
    "test = df.groupby('SRC').VOT.count()\n",
    "test = pd.DataFrame({'SRC':test.index, 'VOT':test.values})\n",
    "num_over_11_votes = test[test['VOT']>=11].shape[0]\n",
    "fraction = num_over_11_votes/test.shape[0]\n",
    "\n",
    "print(\"The fraction of users that votes at least 11 times is :\", fraction)"
   ]
  },
  {
   "cell_type": "code",
   "execution_count": 120,
   "id": "798ec9ce",
   "metadata": {},
   "outputs": [
    {
     "data": {
      "text/plain": [
       "0.24863816822084756"
      ]
     },
     "execution_count": 120,
     "metadata": {},
     "output_type": "execute_result"
    }
   ],
   "source": [
    "G_ = nx.from_pandas_edgelist(df, 'SRC', 'TGT', ['VOT', 'RES', 'YEA'], create_using=nx.MultiDiGraph)\n",
    "\n",
    "tmp = sorted(dict(G_.out_degree()).values())\n",
    "\n",
    "len([t for t in tmp if t >= 11]) / len(tmp)"
   ]
  },
  {
   "cell_type": "markdown",
   "id": "35b05b29",
   "metadata": {},
   "source": [
    "### Task 2: Triangles\n",
    "\n",
    "Next, you set out to investigate the social balance theory by looking at the RfA graph.\n",
    "\n",
    "**2.1**\n",
    "Considering _only_ the RfAs of 2004 (i.e., where `YEA == 2004`), generate all triangles in the undirected graph.\n",
    "Print the number of triangles found.\n",
    "- **Hint:** Note that you can generate a graph with only a subset of nodes and edges via ` G.edge_subgraph`.\n",
    "-  **Hint:** The function `nx.enumerate_all_cliques` generates all cliques in an undirected graph. First, all cliques of size 1 are generated, then all cliques of size 2, etc. Triangles are cliques of size 3.\n"
   ]
  },
  {
   "cell_type": "code",
   "execution_count": 139,
   "id": "b39a403e",
   "metadata": {},
   "outputs": [
    {
     "name": "stdout",
     "output_type": "stream",
     "text": [
      "Number of triangles : 8448\n"
     ]
    }
   ],
   "source": [
    "# 2.1\n",
    "edges_2004 = [i for i, v in nx.get_edge_attributes(G, \"YEA\").items() if v == 2004]\n",
    "G_2004 = G.edge_subgraph(edges_2004)\n",
    "\n",
    "triangles = []\n",
    "num_triangles = 0\n",
    "for clique in nx.enumerate_all_cliques(G_2004):\n",
    "    if len(clique) == 3:\n",
    "        num_triangles += 1\n",
    "        triangles.append(clique)\n",
    "print(\"Number of triangles :\", num_triangles)"
   ]
  },
  {
   "cell_type": "markdown",
   "id": "9b8ac389",
   "metadata": {},
   "source": [
    "**2.2 ** **/True or false:/** Is the following statement true or false? Justify your answer. **\"The node with the highest clustering coefficient in an undirected graph is the node that belongs to the largest number of triangles.\"**"
   ]
  },
  {
   "cell_type": "markdown",
   "id": "f961eef7",
   "metadata": {},
   "source": [
    "**A2.2**\n",
    "False, the clustering coefficient is a fraction of closed triangles in close ego set but this says nothing about the number of triangles of the neighboring nodes."
   ]
  },
  {
   "cell_type": "markdown",
   "id": "e2f5b22c",
   "metadata": {},
   "source": [
    "**2.3** Considering the set of triangles previously calculated, estimate the fraction of triangles of configurations\n",
    " $\\{+,+,+\\}$,  $\\{-,-,-\\}$,  $\\{+,+,-\\}$, and $\\{+,-,-\\}$. What fraction of triangles are \"balanced\" according to structural balance theory?"
   ]
  },
  {
   "cell_type": "code",
   "execution_count": 140,
   "id": "f858e94c",
   "metadata": {},
   "outputs": [
    {
     "name": "stdout",
     "output_type": "stream",
     "text": [
      "{-,-,-}: 0.0052\n",
      "{+,-,-}: 0.0627\n",
      "{+,+,-}: 0.1394\n",
      "{+,+,+}: 0.7926\n",
      "Balanced: 0.8554\n"
     ]
    }
   ],
   "source": [
    "# 2.3\n",
    "counter = {\n",
    "    (-1, -1, -1): 0, # -3\n",
    "    (-1, -1, 1):  0,  # +1-2\n",
    "    (-1, 1, 1):   0,   # +2-1\n",
    "    (1, 1, 1):    0     # +3\n",
    "}\n",
    "\n",
    "for triangle in triangles:\n",
    "    x = nx.get_edge_attributes(G.subgraph(triangle), \"VOT\")\n",
    "    x = tuple(sorted([sign for (u, v), sign in x.items()]))\n",
    "    counter[x] += 1\n",
    "\n",
    "    # normalizes it\n",
    "for k in counter:\n",
    "    counter[k] /= len(triangles)\n",
    "\n",
    "print(\"{-,-,-}:\", \n",
    "      round(counter[(-1, -1, -1)], 4) \n",
    ")\n",
    "print(\"{+,-,-}:\", \n",
    "      round(counter[(-1, -1, 1)], 4) \n",
    ")\n",
    "print(\"{+,+,-}:\", \n",
    "      round(counter[(-1, 1, 1)], 4) \n",
    ")\n",
    "print(\"{+,+,+}:\", \n",
    "      round(counter[(1, 1, 1)], 4) \n",
    ")\n",
    "\n",
    "print(\"Balanced:\", round(counter[(-1, -1, 1)] + counter[(1, 1, 1)], 4) )"
   ]
  },
  {
   "cell_type": "markdown",
   "id": "97e6f9f0",
   "metadata": {},
   "source": [
    "**2.4** To observe how triangle configurations would be distributed under a random null model, do the following:\n",
    "- Create a new column `VOT_RND` in the dataframe, where RfA votes (i.e., edge signs in the graph) are shuffled, i.e., permuted randomly.  For shuffling, use `numpy.random`, without replacement and with the seed 32 (see code provided below).\n",
    "- Create a new edge attribute with the values of `VOT_RND` in the graph you created in task **1.4**. You can do this easily using the  [`set_edge_attributes`](https://networkx.org/documentation/stable/reference/generated/networkx.classes.function.set_edge_attributes.html) function.\n",
    "- Considering the shuffled edge signs,  compute the fraction of triangles in each configuration ($\\{+,+,+\\}$,  $\\{-,-,-\\}$,  $\\{+,+,-\\}$, $\\{+,-,-\\}$). Moreover, compute the fraction of triangles that are \"balanced\" according to structural balance theory. (Reminder: consider only the RfAs of 2004.)\n"
   ]
  },
  {
   "cell_type": "code",
   "execution_count": 151,
   "id": "8b4cba61",
   "metadata": {},
   "outputs": [],
   "source": [
    "# PROVIDED STUB FOR 2.4\n",
    "import numpy as np\n",
    "np.random.seed(32)\n",
    "df_2004 = df[df.YEA == 2004].copy(deep=True)\n",
    "df_2004[\"VOT_RND\"] = np.random.choice(df_2004[\"VOT\"].values, size=len(df_2004), replace=False)"
   ]
  },
  {
   "cell_type": "code",
   "execution_count": 155,
   "id": "49cf240b",
   "metadata": {},
   "outputs": [
    {
     "name": "stdout",
     "output_type": "stream",
     "text": [
      "Number of triangles : 8448\n"
     ]
    }
   ],
   "source": [
    "# 2.4\n",
    "attrs_to_add = dict(df_2004.set_index([\"SRC\", \"TGT\"]).VOT_RND)\n",
    "\n",
    "nx.set_edge_attributes(G, attrs_to_add, \"VOT_RND\")\n"
   ]
  },
  {
   "cell_type": "code",
   "execution_count": 156,
   "id": "cf2663d7",
   "metadata": {},
   "outputs": [
    {
     "name": "stdout",
     "output_type": "stream",
     "text": [
      "{-,-,-}: 0.0019\n",
      "{+,-,-}: 0.0344\n",
      "{+,+,-}: 0.2779\n",
      "{+,+,+}: 0.6857\n",
      "Balanced: 0.7202\n"
     ]
    }
   ],
   "source": [
    "# 2.3\n",
    "counter = {\n",
    "    (-1, -1, -1): 0, # -3\n",
    "    (-1, -1, 1):  0,  # +1-2\n",
    "    (-1, 1, 1):   0,   # +2-1\n",
    "    (1, 1, 1):    0     # +3\n",
    "}\n",
    "\n",
    "for triangle in triangles:\n",
    "    x = nx.get_edge_attributes(G.subgraph(triangle), \"VOT_RND\")\n",
    "    x = tuple(sorted([sign for (u, v), sign in x.items()]))\n",
    "    counter[x] += 1\n",
    "\n",
    "    # normalizes it\n",
    "for k in counter:\n",
    "    counter[k] /= len(triangles)\n",
    "\n",
    "print(\"{-,-,-}:\", \n",
    "      round(counter[(-1, -1, -1)], 4) \n",
    ")\n",
    "print(\"{+,-,-}:\", \n",
    "      round(counter[(-1, -1, 1)], 4) \n",
    ")\n",
    "print(\"{+,+,-}:\", \n",
    "      round(counter[(-1, 1, 1)], 4) \n",
    ")\n",
    "print(\"{+,+,+}:\", \n",
    "      round(counter[(1, 1, 1)], 4) \n",
    ")\n",
    "\n",
    "print(\"Balanced:\", round(counter[(-1, -1, 1)] + counter[(1, 1, 1)], 4) )"
   ]
  },
  {
   "cell_type": "markdown",
   "id": "f055a145",
   "metadata": {},
   "source": [
    "**2.5** **/Discuss:/** Do the results of tasks **2.3** and **2.4** suggest that structural balance theory is correct? What kind of subsequent analysis would make you trust that the results are not obtained simply by chance? (No need to actually perform that subsequent analysis here.) Justify your answer."
   ]
  },
  {
   "cell_type": "markdown",
   "id": "dcd070a6",
   "metadata": {},
   "source": [
    "**A2.5**\n",
    "We get less balanced configurations for the random edges, so it suggests that structural balance theory is correct. We could use boostrap to get some confidence intervals to verify that these results are not obtained simply by chance."
   ]
  },
  {
   "cell_type": "markdown",
   "id": "d5252ffb",
   "metadata": {},
   "source": [
    "### Interlude: Additional data\n",
    "\n",
    "In the data provided in the file `wiki-RfA.csv.gz` (with which you’ve worked up to now), each column corresponds to a vote from a user $u$ to a user $v$ at a time $t$. \n",
    "\n",
    "In **Task 2**, we did not consider the temporal aspect of this network. For the next task, you are provided with a complimentary dataset (`data/wiki-RfA_extra.csv.gz`) containing, for each vote (uniquely determined by `SRC` and `TGT`), a variety of features. **Importantly, these features were calculated considering only data that was already available at the time when the respective vote was cast.** The features are described as follows.\n",
    "\n",
    "- `PP`, `NN`, `PN` — Each vote (signed edge) is part of zero or more triangles, and we computed the number of triangles in which the two remaining edges were both positive (`PP`), both negative (`NN`) and of different signs (i.e., one positive and one negative, `PN`). This considers only the votes the target (denoted by `TGT`) has received before the current vote. \n",
    "\n",
    "- `P`, `N` — The number of positive (`P`) and negative (`N`) votes that the target `TGT` received before the current vote.\n",
    "\n",
    "- `TXT_PROCESSED` — The text in the original dataset, processed so 1) it is entirely lower-case, 2) it does not contain non-alphanumeric characters, and 3) it does not contain words starting with “supp” or “opp” (since words such as \"support\" and \"oppose\"  are obvious give-away signals of the vote).\n",
    "\n",
    "### Interlude: Predicting edge signs with structural balance theory\n",
    "\n",
    "We can use structural balance theory to predict edge signs. \n",
    "\n",
    "Consider an edge whose sign we do not know, as well as the fractions `PP`, `NN`, and `PN` associated with the edge, as defined above. \n",
    "\n",
    "According to structural balance theory, if `PP` + `NN` $\\geq$ `PN`, the vote is predicted to be positive, as this will create more balanced triangles in the graph. Otherwise, it is predicted to be negative. \n",
    "\n",
    "According to the weak structural balance theory, if `PP` $\\geq$ `PN`, the vote is predicted to be positive, as this will create more balanced triangles in the graph. Otherwise, it is predicted to be negative. \n",
    "\n",
    "Note that in both cases we use “$\\geq$” rather than “<”, i.e., when both sides of the equation are equal, we break ties in favor of positive edges. We do so because there are more positive edges in the graph."
   ]
  },
  {
   "cell_type": "markdown",
   "id": "e2f20eed",
   "metadata": {},
   "source": [
    "### Task 3: Predict it!\n",
    "\n",
    "In the final part of the exam, you will leverage your machine learning and regression skills.\n",
    "\n",
    "**3.1** Merge the new dataset with the original dataframe from task **1** using the columns `SRC` and `TGT`. You may drop the old `TXT` column if you want to. \n"
   ]
  },
  {
   "cell_type": "code",
   "execution_count": 163,
   "id": "a2272113",
   "metadata": {},
   "outputs": [
    {
     "data": {
      "text/html": [
       "<div>\n",
       "<style scoped>\n",
       "    .dataframe tbody tr th:only-of-type {\n",
       "        vertical-align: middle;\n",
       "    }\n",
       "\n",
       "    .dataframe tbody tr th {\n",
       "        vertical-align: top;\n",
       "    }\n",
       "\n",
       "    .dataframe thead th {\n",
       "        text-align: right;\n",
       "    }\n",
       "</style>\n",
       "<table border=\"1\" class=\"dataframe\">\n",
       "  <thead>\n",
       "    <tr style=\"text-align: right;\">\n",
       "      <th></th>\n",
       "      <th>SRC</th>\n",
       "      <th>TGT</th>\n",
       "      <th>YEA_x</th>\n",
       "      <th>PP</th>\n",
       "      <th>NN</th>\n",
       "      <th>PN</th>\n",
       "      <th>N</th>\n",
       "      <th>P</th>\n",
       "      <th>TXT_PROCESSED</th>\n",
       "      <th>VOT</th>\n",
       "      <th>RES</th>\n",
       "      <th>YEA_y</th>\n",
       "      <th>DAT</th>\n",
       "    </tr>\n",
       "  </thead>\n",
       "  <tbody>\n",
       "    <tr>\n",
       "      <th>0</th>\n",
       "      <td>2775</td>\n",
       "      <td>7137</td>\n",
       "      <td>2012</td>\n",
       "      <td>0</td>\n",
       "      <td>0</td>\n",
       "      <td>0</td>\n",
       "      <td>0</td>\n",
       "      <td>0</td>\n",
       "      <td>as nom</td>\n",
       "      <td>1</td>\n",
       "      <td>1</td>\n",
       "      <td>2012</td>\n",
       "      <td>2012-08-20 21:29:00</td>\n",
       "    </tr>\n",
       "    <tr>\n",
       "      <th>1</th>\n",
       "      <td>2652</td>\n",
       "      <td>7137</td>\n",
       "      <td>2012</td>\n",
       "      <td>0</td>\n",
       "      <td>0</td>\n",
       "      <td>0</td>\n",
       "      <td>0</td>\n",
       "      <td>1</td>\n",
       "      <td>i haven t seen this user around but a cursory ...</td>\n",
       "      <td>1</td>\n",
       "      <td>1</td>\n",
       "      <td>2012</td>\n",
       "      <td>2012-08-20 21:40:00</td>\n",
       "    </tr>\n",
       "    <tr>\n",
       "      <th>2</th>\n",
       "      <td>3356</td>\n",
       "      <td>7137</td>\n",
       "      <td>2012</td>\n",
       "      <td>0</td>\n",
       "      <td>0</td>\n",
       "      <td>0</td>\n",
       "      <td>0</td>\n",
       "      <td>2</td>\n",
       "      <td>level headed tactful and a good communicator i...</td>\n",
       "      <td>1</td>\n",
       "      <td>1</td>\n",
       "      <td>2012</td>\n",
       "      <td>2012-08-20 22:34:00</td>\n",
       "    </tr>\n",
       "    <tr>\n",
       "      <th>3</th>\n",
       "      <td>4076</td>\n",
       "      <td>7137</td>\n",
       "      <td>2012</td>\n",
       "      <td>0</td>\n",
       "      <td>0</td>\n",
       "      <td>0</td>\n",
       "      <td>0</td>\n",
       "      <td>3</td>\n",
       "      <td>user wizardman span style color 030 wizardman...</td>\n",
       "      <td>1</td>\n",
       "      <td>1</td>\n",
       "      <td>2012</td>\n",
       "      <td>2012-08-20 22:41:00</td>\n",
       "    </tr>\n",
       "    <tr>\n",
       "      <th>4</th>\n",
       "      <td>5612</td>\n",
       "      <td>7137</td>\n",
       "      <td>2012</td>\n",
       "      <td>0</td>\n",
       "      <td>0</td>\n",
       "      <td>0</td>\n",
       "      <td>0</td>\n",
       "      <td>4</td>\n",
       "      <td>editor needs to spend more time on nascar and...</td>\n",
       "      <td>1</td>\n",
       "      <td>1</td>\n",
       "      <td>2012</td>\n",
       "      <td>2012-08-20 22:42:00</td>\n",
       "    </tr>\n",
       "    <tr>\n",
       "      <th>...</th>\n",
       "      <td>...</td>\n",
       "      <td>...</td>\n",
       "      <td>...</td>\n",
       "      <td>...</td>\n",
       "      <td>...</td>\n",
       "      <td>...</td>\n",
       "      <td>...</td>\n",
       "      <td>...</td>\n",
       "      <td>...</td>\n",
       "      <td>...</td>\n",
       "      <td>...</td>\n",
       "      <td>...</td>\n",
       "      <td>...</td>\n",
       "    </tr>\n",
       "    <tr>\n",
       "      <th>166998</th>\n",
       "      <td>3867</td>\n",
       "      <td>5823</td>\n",
       "      <td>2003</td>\n",
       "      <td>0</td>\n",
       "      <td>0</td>\n",
       "      <td>0</td>\n",
       "      <td>0</td>\n",
       "      <td>0</td>\n",
       "      <td>also seems like a good contributor</td>\n",
       "      <td>1</td>\n",
       "      <td>1</td>\n",
       "      <td>2003</td>\n",
       "      <td>2003-12-06 16:05:00</td>\n",
       "    </tr>\n",
       "    <tr>\n",
       "      <th>166999</th>\n",
       "      <td>1011</td>\n",
       "      <td>3422</td>\n",
       "      <td>2003</td>\n",
       "      <td>0</td>\n",
       "      <td>0</td>\n",
       "      <td>0</td>\n",
       "      <td>0</td>\n",
       "      <td>0</td>\n",
       "      <td></td>\n",
       "      <td>1</td>\n",
       "      <td>1</td>\n",
       "      <td>2003</td>\n",
       "      <td>2003-08-31 02:13:00</td>\n",
       "    </tr>\n",
       "    <tr>\n",
       "      <th>167000</th>\n",
       "      <td>8629</td>\n",
       "      <td>3422</td>\n",
       "      <td>2003</td>\n",
       "      <td>0</td>\n",
       "      <td>0</td>\n",
       "      <td>0</td>\n",
       "      <td>0</td>\n",
       "      <td>1</td>\n",
       "      <td></td>\n",
       "      <td>1</td>\n",
       "      <td>1</td>\n",
       "      <td>2003</td>\n",
       "      <td>2003-09-02 02:51:00</td>\n",
       "    </tr>\n",
       "    <tr>\n",
       "      <th>167001</th>\n",
       "      <td>1581</td>\n",
       "      <td>5037</td>\n",
       "      <td>2003</td>\n",
       "      <td>0</td>\n",
       "      <td>0</td>\n",
       "      <td>0</td>\n",
       "      <td>0</td>\n",
       "      <td>0</td>\n",
       "      <td></td>\n",
       "      <td>1</td>\n",
       "      <td>1</td>\n",
       "      <td>2003</td>\n",
       "      <td>2003-11-26 23:45:00</td>\n",
       "    </tr>\n",
       "    <tr>\n",
       "      <th>167002</th>\n",
       "      <td>10897</td>\n",
       "      <td>5037</td>\n",
       "      <td>2003</td>\n",
       "      <td>0</td>\n",
       "      <td>0</td>\n",
       "      <td>0</td>\n",
       "      <td>0</td>\n",
       "      <td>1</td>\n",
       "      <td>age has nothing to do with maturity</td>\n",
       "      <td>1</td>\n",
       "      <td>1</td>\n",
       "      <td>2003</td>\n",
       "      <td>2003-12-05 05:38:00</td>\n",
       "    </tr>\n",
       "  </tbody>\n",
       "</table>\n",
       "<p>167003 rows × 13 columns</p>\n",
       "</div>"
      ],
      "text/plain": [
       "          SRC   TGT  YEA_x  PP  NN  PN  N  P  \\\n",
       "0        2775  7137   2012   0   0   0  0  0   \n",
       "1        2652  7137   2012   0   0   0  0  1   \n",
       "2        3356  7137   2012   0   0   0  0  2   \n",
       "3        4076  7137   2012   0   0   0  0  3   \n",
       "4        5612  7137   2012   0   0   0  0  4   \n",
       "...       ...   ...    ...  ..  ..  .. .. ..   \n",
       "166998   3867  5823   2003   0   0   0  0  0   \n",
       "166999   1011  3422   2003   0   0   0  0  0   \n",
       "167000   8629  3422   2003   0   0   0  0  1   \n",
       "167001   1581  5037   2003   0   0   0  0  0   \n",
       "167002  10897  5037   2003   0   0   0  0  1   \n",
       "\n",
       "                                            TXT_PROCESSED  VOT  RES  YEA_y  \\\n",
       "0                                                 as nom     1    1   2012   \n",
       "1       i haven t seen this user around but a cursory ...    1    1   2012   \n",
       "2       level headed tactful and a good communicator i...    1    1   2012   \n",
       "3        user wizardman span style color 030 wizardman...    1    1   2012   \n",
       "4        editor needs to spend more time on nascar and...    1    1   2012   \n",
       "...                                                   ...  ...  ...    ...   \n",
       "166998                also seems like a good contributor     1    1   2003   \n",
       "166999                                                       1    1   2003   \n",
       "167000                                                       1    1   2003   \n",
       "167001                                                       1    1   2003   \n",
       "167002               age has nothing to do with maturity     1    1   2003   \n",
       "\n",
       "                        DAT  \n",
       "0       2012-08-20 21:29:00  \n",
       "1       2012-08-20 21:40:00  \n",
       "2       2012-08-20 22:34:00  \n",
       "3       2012-08-20 22:41:00  \n",
       "4       2012-08-20 22:42:00  \n",
       "...                     ...  \n",
       "166998  2003-12-06 16:05:00  \n",
       "166999  2003-08-31 02:13:00  \n",
       "167000  2003-09-02 02:51:00  \n",
       "167001  2003-11-26 23:45:00  \n",
       "167002  2003-12-05 05:38:00  \n",
       "\n",
       "[167003 rows x 13 columns]"
      ]
     },
     "execution_count": 163,
     "metadata": {},
     "output_type": "execute_result"
    }
   ],
   "source": [
    "# 3.1\n",
    "new_df = pd.read_csv('wiki-RfA_extra.csv.gz')\n",
    "merged_df = pd.merge(new_df, df, on=['SRC', 'TGT'], how='inner')\n",
    "merged_df = merged_df.drop('TXT', axis=1)\n",
    "merged_df"
   ]
  },
  {
   "cell_type": "markdown",
   "id": "c5d42a2d",
   "metadata": {},
   "source": [
    "**3.2**  Create the following two rule-based classifiers, and for each, estimate its area under the ROC curve (a.k.a. “AUC/ROC”) on the entire dataset:\n",
    "\n",
    "- **A)** a classifier inspired by structural balance theory. The classifier should predict a positive vote if  `PP` + `NN` $\\geq$ `PN`, and a negative vote otherwise.\n",
    "- **B)** a classifier inspired by weak structural balance theory. The classifier should predict a positive vote if `PP`  $\\geq$ `PN` and a negative vote otherwise."
   ]
  },
  {
   "cell_type": "code",
   "execution_count": 174,
   "id": "44643421",
   "metadata": {},
   "outputs": [
    {
     "name": "stdout",
     "output_type": "stream",
     "text": [
      "A) roc score 0.525390127858417\n",
      "AUC for strucutral balance theory : 0.5168292555990815\n",
      "B) roc score 0.528036104766419\n",
      "AUC for weak strucutral balance theory : 0.519007215351287\n"
     ]
    }
   ],
   "source": [
    "# 3.2\n",
    "from sklearn.metrics import roc_curve, roc_auc_score\n",
    "\n",
    "# A) Structural balance theory\n",
    "y = merged_df.VOT.values.astype(int)\n",
    "y_pred = (merged_df.PP + merged_df.NN >= merged_df.PN).astype(int)\n",
    "print(\"A) roc score\", roc_auc_score(y, y_pred))\n",
    "\n",
    "pred_result_1 = []\n",
    "for pp, nn, pn in zip(merged_df['PP'], merged_df['NN'], merged_df['PN']):\n",
    "    if pp+nn >= pn:\n",
    "        pred_result_1.append(1)\n",
    "    else:\n",
    "        pred_result_1.append(-1)\n",
    "\n",
    "auc_score_1 = roc_auc_score(merged_df['RES'], pred_result_1)\n",
    "\n",
    "print(\"AUC for strucutral balance theory :\", auc_score_1)\n",
    "\n",
    "# plt.plot(fpr_1, tpr_1)\n",
    "# plt.plot([0, 1], [0, 1],'r--')\n",
    "# plt.xlabel(\"False Positive Rate\")\n",
    "# plt.ylabel(\"True Positive Rate\")\n",
    "# plt.title(\"ROC Curve for Structural Balance Theory- Area = {:.5f}\".format(auc_score_1));\n",
    "\n",
    "# B) Weak strucutral balance theory\n",
    "y = merged_df.VOT.values.astype(int)\n",
    "y_pred = (merged_df.PP >= merged_df.PN).astype(int)\n",
    "print(\"B) roc score\", roc_auc_score(y, y_pred))\n",
    "\n",
    "pred_result_2 = []\n",
    "for pp, pn in zip(merged_df['PP'], merged_df['PN']):\n",
    "    if pp >= pn:\n",
    "        pred_result_2.append(1)\n",
    "    else:\n",
    "        pred_result_2.append(-1)\n",
    "\n",
    "auc_score_2 = roc_auc_score(merged_df['RES'], pred_result_2)\n",
    "\n",
    "print(\"AUC for weak strucutral balance theory :\", auc_score_2)\n",
    "\n",
    "# plt.plot(fpr_2, tpr_2)\n",
    "# plt.plot([0, 1], [0, 1],'r--')\n",
    "# plt.xlabel(\"False Positive Rate\")\n",
    "# plt.ylabel(\"True Positive Rate\")\n",
    "# plt.title(\"ROC Curve for  Weak structural Balance Theory- Area = {:.5f}\".format(auc_score_1));"
   ]
  },
  {
   "cell_type": "markdown",
   "id": "0161ec09",
   "metadata": {},
   "source": [
    "**3.3** To determine if the differences in the classifiers from task **3.2** occur solely due to chance, follow the following bootstrap procedure, using 200 iterations:\n",
    "\n",
    "- **A)** Randomly sample the entire dataset (i.e., votes from the dataframe constructed in task **3.1**) with replacement;\n",
    "- **B)** Compute the difference of the AUC/ROC for the two classifiers on the entire dataset.\n",
    "\n",
    "Then use the distribution of AUC/ROC differences (one difference per bootstrap iteration) to estimate the 95% confidence interval for the AUC/ROC difference."
   ]
  },
  {
   "cell_type": "code",
   "execution_count": 178,
   "id": "817ee28f",
   "metadata": {},
   "outputs": [
    {
     "name": "stdout",
     "output_type": "stream",
     "text": [
      "95% CI: [-0.00306102 -0.00222994]\n"
     ]
    }
   ],
   "source": [
    "# 3.3 \n",
    "\n",
    "def bootstrap(data, iterations=200):\n",
    "    diffs = np.zeros(iterations)\n",
    "\n",
    "    for i in range(iterations):\n",
    "        bootstrap_sample = merged_df.sample(frac=1, replace=True)\n",
    "        y = bootstrap_sample.VOT.values.astype(int)\n",
    "        y_pred_1 = (bootstrap_sample.PP + bootstrap_sample.NN >= bootstrap_sample.PN).astype(int)\n",
    "        y_pred_2 = (bootstrap_sample.PP >= bootstrap_sample.PN).astype(int)\n",
    "        diffs[i] = roc_auc_score(y, y_pred_1)-roc_auc_score(y, y_pred_2)\n",
    "\n",
    "    return diffs\n",
    "        \n",
    "diffs = bootstrap(merged_df)\n",
    "print(\"95% CI:\", np.quantile( np.array(diffs), q=[0.025, 0.975]))"
   ]
  },
  {
   "cell_type": "markdown",
   "id": "4d0e1569",
   "metadata": {},
   "source": [
    "**3.4 ** **/Discuss:**/ According to the results in tasks **3.2** and **3.3**, which theory better predicts actual edge signs, structural balance theory or the weak structural balance theory? \n"
   ]
  },
  {
   "cell_type": "markdown",
   "id": "94b39801",
   "metadata": {},
   "source": [
    "**A3.4** \n",
    "As the difference is negative with a 95% confidence, it can be said that weak structural balance theory overall better predicts actual edge signs."
   ]
  },
  {
   "cell_type": "markdown",
   "id": "28d37dc1",
   "metadata": {},
   "source": [
    "**3.5** How accurately can we predict the vote with more sophisticated features and algorithms?\n",
    "\n",
    "- Create a TF-IDF representation of the text of each vote  using `sklearn`'s vectorizer ([`sklearn.feature_extraction.text.TfidfVectorizer`](https://scikit-learn.org/stable/modules/generated/sklearn.feature_extraction.text.TfidfVectorizer.html)) with the parameters `max_features=150` and `stop_words='english'`.\n",
    "- Split the  dataset into training and test sets using sklearn [`sklearn.model_selection.train_test_split`](https://scikit-learn.org/stable/modules/generated/sklearn.model_selection.train_test_split.html) using parameters `test_size=0.1` and  `random_state=42`.\n",
    "\n",
    "- Then, train two logistic regression models ([`sklearn.linear_model.SGDClassifier`](https://scikit-learn.org/stable/modules/generated/sklearn.linear_model.SGDClassifier.html)) using parameters `loss='log_loss'` and `max_iter=2000` considering:\n",
    "\n",
    "    - **1)** the TF-IDF feature vector\n",
    "\n",
    "    - **2)** the TF-IDF feature vector and the features `PP`, `NN`, `PN`, `P`, and `N` related to the graph.\n",
    "\n",
    "- Last, report the AUC/ROC of each model in the test set."
   ]
  },
  {
   "cell_type": "code",
   "execution_count": 182,
   "id": "764a00f3",
   "metadata": {},
   "outputs": [
    {
     "name": "stdout",
     "output_type": "stream",
     "text": [
      "After split / roc_auc_score (without extra features) 0.7031816578726287\n",
      "After split / roc_auc_score (without extra features) 0.7489442290091297\n"
     ]
    }
   ],
   "source": [
    "# 3.5\n",
    "from sklearn.feature_extraction.text import TfidfVectorizer\n",
    "from sklearn.model_selection import train_test_split\n",
    "from sklearn.linear_model import SGDClassifier\n",
    "\n",
    "vectorizer = TfidfVectorizer(max_features=150, stop_words='english')\n",
    "merged_df = merged_df.dropna()\n",
    "y = (merged_df.VOT == 1).values.astype(int)\n",
    "\n",
    "X_train, X_test, y_train, y_test = train_test_split(merged_df['TXT_PROCESSED'].values, y, test_size=0.1, random_state=42)\n",
    "X_train = vectorizer.fit_transform(X_train).toarray()\n",
    "X_test = vectorizer.transform(X_test).toarray()\n",
    "clf = SGDClassifier(random_state=0, loss='log_loss', max_iter=2000).fit(X_train, y_train)\n",
    "y_pred = clf.predict(X_test)\n",
    "print(\"After split / roc_auc_score (without extra features)\", roc_auc_score(y_test, y_pred))\n",
    "\n",
    "X2_train, X2_test, _, _ = train_test_split(merged_df[[\"PP\", \"NN\", \"PN\", \"N\", \"P\"]].values, y, test_size=0.1, random_state=42)\n",
    "\n",
    "X_train = np.hstack((X_train, X2_train))\n",
    "X_test = np.hstack((X_test, X2_test))\n",
    "clf = SGDClassifier(random_state=0, loss='log_loss').fit(X_train, y_train)\n",
    "y_pred = clf.predict(X_test)\n",
    "print(\"After split / roc_auc_score (without extra features)\", roc_auc_score(y_test, y_pred))"
   ]
  },
  {
   "cell_type": "markdown",
   "id": "898cbdd1",
   "metadata": {},
   "source": [
    "**3.6** **/Discuss:**/  According to the results in task **3.5**, does information from the graph help in the task of predicting the vote even when using the text?  What kind of subsequent analysis would make you trust that the results are not obtained simply by chance? (No need to actually perform that subsequent analysis here.) "
   ]
  },
  {
   "cell_type": "markdown",
   "id": "6b6767ad",
   "metadata": {},
   "source": [
    "**A3.6** \n",
    "Information from the graph does help in predicting the vote even when using the text. Crossvalidate with multiple runs."
   ]
  },
  {
   "cell_type": "markdown",
   "id": "7f51071d",
   "metadata": {},
   "source": [
    "**3.7** Putting on your observational studies hat, run two logistic regressions using `statsmodels`.\n",
    "- In the first regression, the vote is the outcome, and `PP`, `NN` and `PN` are the predictors.\n",
    "- In the second regression, the vote is the outcome, and `PP`, `NN`, `PN`, and `N` are the predictors."
   ]
  },
  {
   "cell_type": "code",
   "execution_count": 183,
   "id": "9f8df411",
   "metadata": {},
   "outputs": [
    {
     "name": "stderr",
     "output_type": "stream",
     "text": [
      "C:\\Users\\jacqu\\AppData\\Local\\Temp/ipykernel_24688/3386249470.py:3: SettingWithCopyWarning: \n",
      "A value is trying to be set on a copy of a slice from a DataFrame.\n",
      "Try using .loc[row_indexer,col_indexer] = value instead\n",
      "\n",
      "See the caveats in the documentation: https://pandas.pydata.org/pandas-docs/stable/user_guide/indexing.html#returning-a-view-versus-a-copy\n",
      "  merged_df[\"VOT2\"] = (merged_df.VOT == 1).values.astype(int)\n"
     ]
    },
    {
     "name": "stdout",
     "output_type": "stream",
     "text": [
      "Optimization terminated successfully.\n",
      "         Current function value: 0.520376\n",
      "         Iterations 7\n"
     ]
    },
    {
     "data": {
      "text/html": [
       "<table class=\"simpletable\">\n",
       "<caption>Logit Regression Results</caption>\n",
       "<tr>\n",
       "  <th>Dep. Variable:</th>         <td>VOT2</td>       <th>  No. Observations:  </th>  <td>162920</td> \n",
       "</tr>\n",
       "<tr>\n",
       "  <th>Model:</th>                 <td>Logit</td>      <th>  Df Residuals:      </th>  <td>162916</td> \n",
       "</tr>\n",
       "<tr>\n",
       "  <th>Method:</th>                 <td>MLE</td>       <th>  Df Model:          </th>  <td>     3</td> \n",
       "</tr>\n",
       "<tr>\n",
       "  <th>Date:</th>            <td>Sat, 11 Jan 2025</td> <th>  Pseudo R-squ.:     </th>  <td>0.01775</td>\n",
       "</tr>\n",
       "<tr>\n",
       "  <th>Time:</th>                <td>16:29:57</td>     <th>  Log-Likelihood:    </th> <td> -84780.</td>\n",
       "</tr>\n",
       "<tr>\n",
       "  <th>converged:</th>             <td>True</td>       <th>  LL-Null:           </th> <td> -86312.</td>\n",
       "</tr>\n",
       "<tr>\n",
       "  <th>Covariance Type:</th>     <td>nonrobust</td>    <th>  LLR p-value:       </th>  <td> 0.000</td> \n",
       "</tr>\n",
       "</table>\n",
       "<table class=\"simpletable\">\n",
       "<tr>\n",
       "      <td></td>         <th>coef</th>     <th>std err</th>      <th>z</th>      <th>P>|z|</th>  <th>[0.025</th>    <th>0.975]</th>  \n",
       "</tr>\n",
       "<tr>\n",
       "  <th>Intercept</th> <td>    1.2520</td> <td>    0.006</td> <td>  201.118</td> <td> 0.000</td> <td>    1.240</td> <td>    1.264</td>\n",
       "</tr>\n",
       "<tr>\n",
       "  <th>PP</th>        <td>    0.2462</td> <td>    0.007</td> <td>   33.871</td> <td> 0.000</td> <td>    0.232</td> <td>    0.260</td>\n",
       "</tr>\n",
       "<tr>\n",
       "  <th>NN</th>        <td>   -0.6704</td> <td>    0.040</td> <td>  -16.740</td> <td> 0.000</td> <td>   -0.749</td> <td>   -0.592</td>\n",
       "</tr>\n",
       "<tr>\n",
       "  <th>PN</th>        <td>   -0.5437</td> <td>    0.014</td> <td>  -39.610</td> <td> 0.000</td> <td>   -0.571</td> <td>   -0.517</td>\n",
       "</tr>\n",
       "</table>"
      ],
      "text/latex": [
       "\\begin{center}\n",
       "\\begin{tabular}{lclc}\n",
       "\\toprule\n",
       "\\textbf{Dep. Variable:}   &       VOT2       & \\textbf{  No. Observations:  } &   162920    \\\\\n",
       "\\textbf{Model:}           &      Logit       & \\textbf{  Df Residuals:      } &   162916    \\\\\n",
       "\\textbf{Method:}          &       MLE        & \\textbf{  Df Model:          } &        3    \\\\\n",
       "\\textbf{Date:}            & Sat, 11 Jan 2025 & \\textbf{  Pseudo R-squ.:     } &  0.01775    \\\\\n",
       "\\textbf{Time:}            &     16:29:57     & \\textbf{  Log-Likelihood:    } &   -84780.   \\\\\n",
       "\\textbf{converged:}       &       True       & \\textbf{  LL-Null:           } &   -86312.   \\\\\n",
       "\\textbf{Covariance Type:} &    nonrobust     & \\textbf{  LLR p-value:       } &    0.000    \\\\\n",
       "\\bottomrule\n",
       "\\end{tabular}\n",
       "\\begin{tabular}{lcccccc}\n",
       "                   & \\textbf{coef} & \\textbf{std err} & \\textbf{z} & \\textbf{P$> |$z$|$} & \\textbf{[0.025} & \\textbf{0.975]}  \\\\\n",
       "\\midrule\n",
       "\\textbf{Intercept} &       1.2520  &        0.006     &   201.118  &         0.000        &        1.240    &        1.264     \\\\\n",
       "\\textbf{PP}        &       0.2462  &        0.007     &    33.871  &         0.000        &        0.232    &        0.260     \\\\\n",
       "\\textbf{NN}        &      -0.6704  &        0.040     &   -16.740  &         0.000        &       -0.749    &       -0.592     \\\\\n",
       "\\textbf{PN}        &      -0.5437  &        0.014     &   -39.610  &         0.000        &       -0.571    &       -0.517     \\\\\n",
       "\\bottomrule\n",
       "\\end{tabular}\n",
       "%\\caption{Logit Regression Results}\n",
       "\\end{center}"
      ],
      "text/plain": [
       "<class 'statsmodels.iolib.summary.Summary'>\n",
       "\"\"\"\n",
       "                           Logit Regression Results                           \n",
       "==============================================================================\n",
       "Dep. Variable:                   VOT2   No. Observations:               162920\n",
       "Model:                          Logit   Df Residuals:                   162916\n",
       "Method:                           MLE   Df Model:                            3\n",
       "Date:                Sat, 11 Jan 2025   Pseudo R-squ.:                 0.01775\n",
       "Time:                        16:29:57   Log-Likelihood:                -84780.\n",
       "converged:                       True   LL-Null:                       -86312.\n",
       "Covariance Type:            nonrobust   LLR p-value:                     0.000\n",
       "==============================================================================\n",
       "                 coef    std err          z      P>|z|      [0.025      0.975]\n",
       "------------------------------------------------------------------------------\n",
       "Intercept      1.2520      0.006    201.118      0.000       1.240       1.264\n",
       "PP             0.2462      0.007     33.871      0.000       0.232       0.260\n",
       "NN            -0.6704      0.040    -16.740      0.000      -0.749      -0.592\n",
       "PN            -0.5437      0.014    -39.610      0.000      -0.571      -0.517\n",
       "==============================================================================\n",
       "\"\"\""
      ]
     },
     "execution_count": 183,
     "metadata": {},
     "output_type": "execute_result"
    }
   ],
   "source": [
    "# 3.7\n",
    "import statsmodels.formula.api as smf\n",
    "merged_df[\"VOT2\"] = (merged_df.VOT == 1).values.astype(int)\n",
    "smf.logit(\"VOT2 ~ PP + NN +PN\" , data=merged_df).fit().summary()"
   ]
  },
  {
   "cell_type": "code",
   "execution_count": 184,
   "id": "9a08ba63",
   "metadata": {},
   "outputs": [
    {
     "name": "stderr",
     "output_type": "stream",
     "text": [
      "C:\\Users\\jacqu\\AppData\\Local\\Temp/ipykernel_24688/1035406879.py:2: SettingWithCopyWarning: \n",
      "A value is trying to be set on a copy of a slice from a DataFrame.\n",
      "Try using .loc[row_indexer,col_indexer] = value instead\n",
      "\n",
      "See the caveats in the documentation: https://pandas.pydata.org/pandas-docs/stable/user_guide/indexing.html#returning-a-view-versus-a-copy\n",
      "  merged_df[\"VOT2\"] = (merged_df.VOT == 1).values.astype(int)\n"
     ]
    },
    {
     "name": "stdout",
     "output_type": "stream",
     "text": [
      "Optimization terminated successfully.\n",
      "         Current function value: 0.494115\n",
      "         Iterations 7\n"
     ]
    },
    {
     "data": {
      "text/html": [
       "<table class=\"simpletable\">\n",
       "<caption>Logit Regression Results</caption>\n",
       "<tr>\n",
       "  <th>Dep. Variable:</th>         <td>VOT2</td>       <th>  No. Observations:  </th>  <td>162920</td> \n",
       "</tr>\n",
       "<tr>\n",
       "  <th>Model:</th>                 <td>Logit</td>      <th>  Df Residuals:      </th>  <td>162915</td> \n",
       "</tr>\n",
       "<tr>\n",
       "  <th>Method:</th>                 <td>MLE</td>       <th>  Df Model:          </th>  <td>     4</td> \n",
       "</tr>\n",
       "<tr>\n",
       "  <th>Date:</th>            <td>Sat, 11 Jan 2025</td> <th>  Pseudo R-squ.:     </th>  <td>0.06732</td>\n",
       "</tr>\n",
       "<tr>\n",
       "  <th>Time:</th>                <td>16:30:40</td>     <th>  Log-Likelihood:    </th> <td> -80501.</td>\n",
       "</tr>\n",
       "<tr>\n",
       "  <th>converged:</th>             <td>True</td>       <th>  LL-Null:           </th> <td> -86312.</td>\n",
       "</tr>\n",
       "<tr>\n",
       "  <th>Covariance Type:</th>     <td>nonrobust</td>    <th>  LLR p-value:       </th>  <td> 0.000</td> \n",
       "</tr>\n",
       "</table>\n",
       "<table class=\"simpletable\">\n",
       "<tr>\n",
       "      <td></td>         <th>coef</th>     <th>std err</th>      <th>z</th>      <th>P>|z|</th>  <th>[0.025</th>    <th>0.975]</th>  \n",
       "</tr>\n",
       "<tr>\n",
       "  <th>Intercept</th> <td>    1.5945</td> <td>    0.008</td> <td>  208.094</td> <td> 0.000</td> <td>    1.579</td> <td>    1.610</td>\n",
       "</tr>\n",
       "<tr>\n",
       "  <th>PP</th>        <td>    0.2504</td> <td>    0.008</td> <td>   32.963</td> <td> 0.000</td> <td>    0.236</td> <td>    0.265</td>\n",
       "</tr>\n",
       "<tr>\n",
       "  <th>NN</th>        <td>   -0.5426</td> <td>    0.040</td> <td>  -13.490</td> <td> 0.000</td> <td>   -0.621</td> <td>   -0.464</td>\n",
       "</tr>\n",
       "<tr>\n",
       "  <th>PN</th>        <td>   -0.4511</td> <td>    0.014</td> <td>  -32.524</td> <td> 0.000</td> <td>   -0.478</td> <td>   -0.424</td>\n",
       "</tr>\n",
       "<tr>\n",
       "  <th>N</th>         <td>   -0.0431</td> <td>    0.000</td> <td>  -87.639</td> <td> 0.000</td> <td>   -0.044</td> <td>   -0.042</td>\n",
       "</tr>\n",
       "</table>"
      ],
      "text/latex": [
       "\\begin{center}\n",
       "\\begin{tabular}{lclc}\n",
       "\\toprule\n",
       "\\textbf{Dep. Variable:}   &       VOT2       & \\textbf{  No. Observations:  } &   162920    \\\\\n",
       "\\textbf{Model:}           &      Logit       & \\textbf{  Df Residuals:      } &   162915    \\\\\n",
       "\\textbf{Method:}          &       MLE        & \\textbf{  Df Model:          } &        4    \\\\\n",
       "\\textbf{Date:}            & Sat, 11 Jan 2025 & \\textbf{  Pseudo R-squ.:     } &  0.06732    \\\\\n",
       "\\textbf{Time:}            &     16:30:40     & \\textbf{  Log-Likelihood:    } &   -80501.   \\\\\n",
       "\\textbf{converged:}       &       True       & \\textbf{  LL-Null:           } &   -86312.   \\\\\n",
       "\\textbf{Covariance Type:} &    nonrobust     & \\textbf{  LLR p-value:       } &    0.000    \\\\\n",
       "\\bottomrule\n",
       "\\end{tabular}\n",
       "\\begin{tabular}{lcccccc}\n",
       "                   & \\textbf{coef} & \\textbf{std err} & \\textbf{z} & \\textbf{P$> |$z$|$} & \\textbf{[0.025} & \\textbf{0.975]}  \\\\\n",
       "\\midrule\n",
       "\\textbf{Intercept} &       1.5945  &        0.008     &   208.094  &         0.000        &        1.579    &        1.610     \\\\\n",
       "\\textbf{PP}        &       0.2504  &        0.008     &    32.963  &         0.000        &        0.236    &        0.265     \\\\\n",
       "\\textbf{NN}        &      -0.5426  &        0.040     &   -13.490  &         0.000        &       -0.621    &       -0.464     \\\\\n",
       "\\textbf{PN}        &      -0.4511  &        0.014     &   -32.524  &         0.000        &       -0.478    &       -0.424     \\\\\n",
       "\\textbf{N}         &      -0.0431  &        0.000     &   -87.639  &         0.000        &       -0.044    &       -0.042     \\\\\n",
       "\\bottomrule\n",
       "\\end{tabular}\n",
       "%\\caption{Logit Regression Results}\n",
       "\\end{center}"
      ],
      "text/plain": [
       "<class 'statsmodels.iolib.summary.Summary'>\n",
       "\"\"\"\n",
       "                           Logit Regression Results                           \n",
       "==============================================================================\n",
       "Dep. Variable:                   VOT2   No. Observations:               162920\n",
       "Model:                          Logit   Df Residuals:                   162915\n",
       "Method:                           MLE   Df Model:                            4\n",
       "Date:                Sat, 11 Jan 2025   Pseudo R-squ.:                 0.06732\n",
       "Time:                        16:30:40   Log-Likelihood:                -80501.\n",
       "converged:                       True   LL-Null:                       -86312.\n",
       "Covariance Type:            nonrobust   LLR p-value:                     0.000\n",
       "==============================================================================\n",
       "                 coef    std err          z      P>|z|      [0.025      0.975]\n",
       "------------------------------------------------------------------------------\n",
       "Intercept      1.5945      0.008    208.094      0.000       1.579       1.610\n",
       "PP             0.2504      0.008     32.963      0.000       0.236       0.265\n",
       "NN            -0.5426      0.040    -13.490      0.000      -0.621      -0.464\n",
       "PN            -0.4511      0.014    -32.524      0.000      -0.478      -0.424\n",
       "N             -0.0431      0.000    -87.639      0.000      -0.044      -0.042\n",
       "==============================================================================\n",
       "\"\"\""
      ]
     },
     "execution_count": 184,
     "metadata": {},
     "output_type": "execute_result"
    }
   ],
   "source": [
    "# 3.7\n",
    "merged_df[\"VOT2\"] = (merged_df.VOT == 1).values.astype(int)\n",
    "smf.logit(\"VOT2 ~ PP + NN + PN + N\" , data=merged_df).fit().summary()"
   ]
  },
  {
   "cell_type": "markdown",
   "id": "db15d090",
   "metadata": {},
   "source": [
    "**3.8** **/Discuss:**/   Explain what the coefficient associated with `PP` means in the first regression. Is it in accordance with structural balance theory?\n"
   ]
  },
  {
   "cell_type": "markdown",
   "id": "48845787",
   "metadata": {},
   "source": [
    "**A3.8**\n",
    "It has a positive value so PP has a positive impact on the outcome of the vote. Which is in accordance with structural balance theory."
   ]
  },
  {
   "cell_type": "markdown",
   "id": "49752dbb",
   "metadata": {},
   "source": [
    "**3.9** **/Discuss:**/   Compare the coefficients associated with `PN` and `NN` in the first vs. the second regression. Present a reason that may explain this difference."
   ]
  },
  {
   "cell_type": "markdown",
   "id": "8ab7612b",
   "metadata": {},
   "source": [
    "**A3.9** \n",
    "The impact of PN and NN seems to decrease from the first model to the second. This might be due to the fact PN and NN partially capture the N values in the first regression (hence their larger negative absolute value)."
   ]
  },
  {
   "cell_type": "markdown",
   "id": "207c9147",
   "metadata": {},
   "source": [
    "---"
   ]
  }
 ],
 "metadata": {
  "kernelspec": {
   "display_name": "adaexam",
   "language": "python",
   "name": "python3"
  },
  "language_info": {
   "codemirror_mode": {
    "name": "ipython",
    "version": 3
   },
   "file_extension": ".py",
   "mimetype": "text/x-python",
   "name": "python",
   "nbconvert_exporter": "python",
   "pygments_lexer": "ipython3",
   "version": "3.9.7"
  }
 },
 "nbformat": 4,
 "nbformat_minor": 5
}
